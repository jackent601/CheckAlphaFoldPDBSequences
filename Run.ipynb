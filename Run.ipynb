{
 "cells": [
  {
   "cell_type": "markdown",
   "id": "d9279a88-1f56-4007-85f9-27a03f9146b9",
   "metadata": {},
   "source": [
    "### Checking AlphaFold PDB Sequences to Source Sequences\n",
    "\n",
    "TODO:\n",
    "- Only checks for exact match but this might miss out matching sub-sequences in case where exact match does not exist"
   ]
  },
  {
   "cell_type": "code",
   "execution_count": 1,
   "id": "0abb0822-034a-4ec5-bfda-b9962bfe0175",
   "metadata": {},
   "outputs": [],
   "source": [
    "import pandas as pd\n",
    "import os\n",
    "from Bio.PDB import PDBParser\n",
    "from Bio.SeqUtils import seq1 # convert 3 letter AA seq to 1 letter AA seq\n",
    "parser = PDBParser()\n",
    "import CheckAFPDBSequences as CHECK"
   ]
  },
  {
   "cell_type": "markdown",
   "id": "da74462b-2310-41ab-bd53-f169c1d744a9",
   "metadata": {},
   "source": [
    "#### Config\n",
    "\n",
    "\n",
    "- **SOURCE_SEQUENCES_PATH**: _Path to csv containing sequences, with uniprot IDs which were used to query AF PDB database (see CheckAlphaFoldPDBSequences)_\n",
    "- **ID_FEATURE_NAME**: _Name of the column in above csv specifying the uniprot ID (default: 'Uniprot_ID' creatively...)_\n",
    "- **SEQUENCE_FEATURE_NAME**: _Name of the column in the above csv specifying the sequence (default: 'Sequence' creatively...)_\n",
    "- **AF_PDB_INFO_PATH**: _Path to csv containing AlphaFold PDB info, importantly containing path to local AF PDB for each uniprot ID (generated from CheckAlphaFoldPDBSequences)_\n",
    "- **AF_PDB_ROOT_DIR**: _PDB paths in above csv are relative, need to provide path to PDB root dir for full path to PDB_\n",
    "- **OUTPUT_SAVEPATH**: _Where to save generated PDB sequence match info_\n"
   ]
  },
  {
   "cell_type": "code",
   "execution_count": 2,
   "id": "be6ed8e9-9074-4e35-806d-e925b16e7fa6",
   "metadata": {},
   "outputs": [],
   "source": [
    "CONFIG = {\n",
    "    'SOURCE_SEQUENCES_PATH': \"\",\n",
    "    'ID_FEATURE_NAME': \"Uniprot_ID\",\n",
    "    'SEQUENCE_FEATURE_NAME': \"Sequence\",\n",
    "\n",
    "    # Dataframe linking uniprot ID with path to AlphaFold PDB (source uniprot ID feature name is standard)\n",
    "    'AF_PDB_DATAFRAME': \"\",\n",
    "    # Paths in csv are relative so provide path to root dir\n",
    "    'AF_PDB_ROOT_DIR': \"\",\n",
    "\n",
    "    # Save Path for sequence match info\n",
    "    'OUTPUT_SAVEPATH': ''\n",
    "}"
   ]
  },
  {
   "cell_type": "markdown",
   "id": "40569723-b631-4b73-8ca9-0a6c5c5d7402",
   "metadata": {},
   "source": [
    "#### Run"
   ]
  },
  {
   "cell_type": "code",
   "execution_count": 4,
   "id": "6438522a-b052-4833-9ef3-b194a796e28b",
   "metadata": {},
   "outputs": [],
   "source": [
    "CHECK.CheckAlphaFoldPDBSequences_EndToEnd(CONFIG)"
   ]
  }
 ],
 "metadata": {
  "kernelspec": {
   "display_name": "Python [conda env:bio_play]",
   "language": "python",
   "name": "conda-env-bio_play-py"
  },
  "language_info": {
   "codemirror_mode": {
    "name": "ipython",
    "version": 3
   },
   "file_extension": ".py",
   "mimetype": "text/x-python",
   "name": "python",
   "nbconvert_exporter": "python",
   "pygments_lexer": "ipython3",
   "version": "3.10.8"
  }
 },
 "nbformat": 4,
 "nbformat_minor": 5
}
